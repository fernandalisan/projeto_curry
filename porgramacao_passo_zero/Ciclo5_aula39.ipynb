{
 "cells": [
  {
   "cell_type": "code",
   "execution_count": 1,
   "id": "24b27b88-bf7c-4341-b13d-b6cabb075ac2",
   "metadata": {},
   "outputs": [
    {
     "data": {
      "text/plain": [
       "ID                                     object\n",
       "Delivery_person_ID                     object\n",
       "Delivery_person_Age                     int64\n",
       "Delivery_person_Ratings               float64\n",
       "Restaurant_latitude                   float64\n",
       "Restaurant_longitude                  float64\n",
       "Delivery_location_latitude            float64\n",
       "Delivery_location_longitude           float64\n",
       "Order_Date                     datetime64[ns]\n",
       "Time_Orderd                            object\n",
       "Time_Order_picked                      object\n",
       "Weatherconditions                      object\n",
       "Road_traffic_density                   object\n",
       "Vehicle_condition                       int64\n",
       "Type_of_order                          object\n",
       "Type_of_vehicle                        object\n",
       "multiple_deliveries                     int64\n",
       "Festival                               object\n",
       "City                                   object\n",
       "Time_taken(min)                        object\n",
       "dtype: object"
      ]
     },
     "execution_count": 1,
     "metadata": {},
     "output_type": "execute_result"
    }
   ],
   "source": [
    "#importar o arquivo\n",
    "import pandas as pd\n",
    "import io\n",
    "arquivo = pd.read_csv(r'/Users/fernanda/Documents/repos/ftc/arquivos_baixados/train.csv')\n",
    "\n",
    "#transformar o arquivo em um DataFrame\n",
    "df = pd.DataFrame(arquivo)\n",
    "\n",
    "#cópia do arquivo original\n",
    "df1 = df.copy()\n",
    "\n",
    "#verificando o tipo de variável de cada coluna\n",
    "df1.dtypes\n",
    "\n",
    "#####limpeza dos dados####\n",
    "\n",
    "#Excluindo 'NaN ' da coluna Age:\n",
    "linhas_selecionadas = df1['Delivery_person_Age'] != 'NaN '\n",
    "#Localizando as linhas que contém NaN\n",
    "#df1 = df1.loc[linhas, colunas]\n",
    "df1 = df1.loc[linhas_selecionadas, :].copy()\n",
    "\n",
    "#Colunas que estão com type incorreto de acordo com as linhas:\n",
    "#Delivery_person_Age - conversão de Object(str) para int\n",
    "#coluna Delivery_person_Ratings - conversão de Object(str) para float\n",
    "#coluna Order_Date - conversão de Object(str) para data\n",
    "#coluna multiple_deliveries - conversão de Object(str) para int\n",
    "\n",
    "#conversões:\n",
    "#Delivery_person_Age - conversão de Object(str) para int\n",
    "df1['Delivery_person_Age'] = df1['Delivery_person_Age'].astype(int)\n",
    "\n",
    "#coluna Delivery_person_Ratings - conversão de Object(str) para float\n",
    "df1['Delivery_person_Ratings'] = df1['Delivery_person_Ratings'].astype(float)\n",
    "\n",
    "#coluna Order_Date - conversão de Object(str) para data\n",
    "df1['Order_Date'] = pd.to_datetime( df1['Order_Date'], format = '%d-%m-%Y' )\n",
    "\n",
    "###Excluindo 'NaN ' da coluna 'multiple_deliveries':\n",
    "linhas_selecionadas = df1['multiple_deliveries'] != 'NaN '\n",
    "df1 = df1.loc[linhas_selecionadas, :].copy()\n",
    "\n",
    "###Excluindo 'NaN ' da coluna 'City':\n",
    "linhas_selecionadas = df1['City'] != 'NaN '\n",
    "df1 = df1.loc[linhas_selecionadas, :].copy()\n",
    "\n",
    "###Excluindo 'NaN ' da coluna 'Road_traffic_density':\n",
    "linhas_selecionadas = df1['Road_traffic_density'] != 'NaN '\n",
    "df1 = df1.loc[linhas_selecionadas, :].copy()\n",
    "\n",
    "###Excluindo 'NaN ' da coluna 'Weatherconditions':\n",
    "linhas_selecionadas = df1['Weatherconditions'] != 'NaN '\n",
    "df1 = df1.loc[linhas_selecionadas, :].copy()\n",
    "\n",
    "###Excluindo 'NaN ' da coluna 'Festival':\n",
    "linhas_selecionadas = df1['Festival'] != 'NaN '\n",
    "df1 = df1.loc[linhas_selecionadas, :].copy()\n",
    "\n",
    "#coluna multiple_deliveries - conversão de Object(str) para int\n",
    "df1['multiple_deliveries'] = df1['multiple_deliveries'].astype(int)\n",
    "\n",
    "#tirando os espaços das células nas colunas:\n",
    "df1.loc[:, 'ID'] =  df1.loc[:, 'ID'].str.strip()\n",
    "df1.loc[:, 'Road_traffic_density'] =  df1.loc[:, 'Road_traffic_density'].str.strip()\n",
    "df1.loc[:, 'Type_of_order'] =  df1.loc[:, 'Type_of_order'].str.strip()\n",
    "df1.loc[:, 'Type_of_vehicle'] =  df1.loc[:, 'Type_of_vehicle'].str.strip()\n",
    "df1.loc[:, 'City'] =  df1.loc[:, 'City'].str.strip()\n",
    "df1.dtypes"
   ]
  },
  {
   "cell_type": "code",
   "execution_count": null,
   "id": "19a878e9-135a-4129-b6ff-1af38eb8ce38",
   "metadata": {},
   "outputs": [],
   "source": []
  },
  {
   "cell_type": "code",
   "execution_count": null,
   "id": "0fa3529e-3ba5-4ed4-831b-6d2cc7977b5c",
   "metadata": {},
   "outputs": [],
   "source": [
    "\n"
   ]
  }
 ],
 "metadata": {
  "kernelspec": {
   "display_name": "Python 3 (ipykernel)",
   "language": "python",
   "name": "python3"
  },
  "language_info": {
   "codemirror_mode": {
    "name": "ipython",
    "version": 3
   },
   "file_extension": ".py",
   "mimetype": "text/x-python",
   "name": "python",
   "nbconvert_exporter": "python",
   "pygments_lexer": "ipython3",
   "version": "3.10.11"
  }
 },
 "nbformat": 4,
 "nbformat_minor": 5
}
