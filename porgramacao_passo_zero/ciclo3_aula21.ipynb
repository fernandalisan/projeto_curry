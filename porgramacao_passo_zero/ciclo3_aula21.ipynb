{
 "cells": [
  {
   "cell_type": "code",
   "execution_count": 8,
   "id": "bec45ad8-90a8-4122-8c38-3d57dfde4670",
   "metadata": {},
   "outputs": [
    {
     "data": {
      "text/plain": [
       "[10, 3, 40, 10, 30, 50]"
      ]
     },
     "execution_count": 8,
     "metadata": {},
     "output_type": "execute_result"
    }
   ],
   "source": [
    "#Trocar o elemento 1 da lista pelo valor 3. \n",
    "\n",
    "lista = [10,30,40,10,30,50]\n",
    "lista[1] = 3\n",
    "lista"
   ]
  },
  {
   "cell_type": "code",
   "execution_count": 9,
   "id": "744f4736-6d4b-415d-8550-79d63b7af44e",
   "metadata": {},
   "outputs": [
    {
     "data": {
      "text/plain": [
       "[10, 30, [10, 40, 103, 50, 2304, 234], 10, 30, 50]"
      ]
     },
     "execution_count": 9,
     "metadata": {},
     "output_type": "execute_result"
    }
   ],
   "source": [
    "#trocar o elemento 3 da posição 2 da lista pelo valor 50. \n",
    "\n",
    "lista = [10, 30, [ 10, 40, 103, 503, 2304, 234], 10, 30, 50]\n",
    "lista[2][3] = 50 \n",
    "lista"
   ]
  },
  {
   "cell_type": "code",
   "execution_count": 12,
   "id": "2eed72ea-133c-4059-b52e-6f8037a1a1c5",
   "metadata": {},
   "outputs": [],
   "source": [
    "#fazer uma cópia da lista\n",
    "lista = [10, 30, [ 10, 40, 103, 503, 2304, 234], 10, 30, 50]\n",
    "lista1 = lista[:]\n",
    "lista1[1] = 3"
   ]
  },
  {
   "cell_type": "code",
   "execution_count": 16,
   "id": "e3eb212f-870c-40a1-af61-1a7f76040afa",
   "metadata": {},
   "outputs": [
    {
     "data": {
      "text/plain": [
       "6"
      ]
     },
     "execution_count": 16,
     "metadata": {},
     "output_type": "execute_result"
    }
   ],
   "source": [
    "#qt de elementos tamanho da lista \n",
    "lista = [10, 30, [ 10, 40, 103, 503, 2304, 234], 10, 30, 50]\n",
    "len(lista1)"
   ]
  },
  {
   "cell_type": "code",
   "execution_count": 19,
   "id": "6a1bcd5d-51c5-4be2-a874-5a8d3fbd01af",
   "metadata": {},
   "outputs": [
    {
     "data": {
      "text/plain": [
       "2"
      ]
     },
     "execution_count": 19,
     "metadata": {},
     "output_type": "execute_result"
    }
   ],
   "source": [
    "#Quantas vezes um elemento aparece na lista\n",
    "lista = [10, 30, [ 10, 40, 103, 503, 2304, 234], 10, 30, 50]\n",
    "lista.count(10)"
   ]
  },
  {
   "cell_type": "code",
   "execution_count": null,
   "id": "6322749f-918a-4b1c-9635-baf217344298",
   "metadata": {},
   "outputs": [],
   "source": []
  }
 ],
 "metadata": {
  "kernelspec": {
   "display_name": "Python 3 (ipykernel)",
   "language": "python",
   "name": "python3"
  },
  "language_info": {
   "codemirror_mode": {
    "name": "ipython",
    "version": 3
   },
   "file_extension": ".py",
   "mimetype": "text/x-python",
   "name": "python",
   "nbconvert_exporter": "python",
   "pygments_lexer": "ipython3",
   "version": "3.10.11"
  }
 },
 "nbformat": 4,
 "nbformat_minor": 5
}
