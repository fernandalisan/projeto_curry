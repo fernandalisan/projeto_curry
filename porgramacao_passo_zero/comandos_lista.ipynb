{
 "cells": [
  {
   "cell_type": "code",
   "execution_count": 2,
   "id": "65d6c5fa-54e5-4468-8498-e488ef34619c",
   "metadata": {},
   "outputs": [
    {
     "data": {
      "text/plain": [
       "18"
      ]
     },
     "execution_count": 2,
     "metadata": {},
     "output_type": "execute_result"
    }
   ],
   "source": [
    "#extend - une uma lista na outra\n",
    "\n",
    "lista1 = [0,5,5,77,8,75,454,55545,454]\n",
    "lista2 = [2,55,5,5,545,5454544,5454,54,4]\n",
    "\n",
    "\n",
    "lista1.extend(lista2)\n",
    "len(lista1)"
   ]
  },
  {
   "cell_type": "code",
   "execution_count": 9,
   "id": "dbed95b8-9393-473b-b47b-f6cfff725cd9",
   "metadata": {},
   "outputs": [
    {
     "data": {
      "text/plain": [
       "2"
      ]
     },
     "execution_count": 9,
     "metadata": {},
     "output_type": "execute_result"
    }
   ],
   "source": [
    "#count - conta quantas vezes um número aparece em uma lista \n",
    "\n",
    "lista = [0,5,5,77,8,75,454,55545,454]\n",
    "lista.count(5)"
   ]
  },
  {
   "cell_type": "code",
   "execution_count": 11,
   "id": "b7b57eef-9a95-41f1-bceb-fb2590048682",
   "metadata": {},
   "outputs": [
    {
     "data": {
      "text/plain": [
       "3"
      ]
     },
     "execution_count": 11,
     "metadata": {},
     "output_type": "execute_result"
    }
   ],
   "source": [
    "#index - mostra a posição do número\n",
    "\n",
    "lista = [0,5,5,77,8,75,454,55545,454]\n",
    "lista.index(77, 0, 4)"
   ]
  },
  {
   "cell_type": "code",
   "execution_count": 12,
   "id": "c3dcbad8-84a7-4151-bf95-48ecb376aba3",
   "metadata": {},
   "outputs": [
    {
     "data": {
      "text/plain": [
       "[0, 5, 5, 77, 8, 75, 454, 55545, 454]"
      ]
     },
     "execution_count": 12,
     "metadata": {},
     "output_type": "execute_result"
    }
   ],
   "source": [
    "#copy - faz uma cópia da lista\n",
    "\n",
    "lista = [0,5,5,77,8,75,454,55545,454]\n",
    "lista.copy()\n"
   ]
  },
  {
   "cell_type": "code",
   "execution_count": 22,
   "id": "a7bb1b1c-e871-4af9-82c0-f0cad6b4ceb2",
   "metadata": {},
   "outputs": [
    {
     "data": {
      "text/plain": [
       "[]"
      ]
     },
     "execution_count": 22,
     "metadata": {},
     "output_type": "execute_result"
    }
   ],
   "source": [
    "#clear - apaga a lista \n",
    "\n",
    "lista = [0,5,5,77,8,75,454,55545,454]\n",
    "lista.clear()\n",
    "lista"
   ]
  },
  {
   "cell_type": "code",
   "execution_count": 25,
   "id": "df8cb5dc-3930-450d-a87d-13c72ec387b5",
   "metadata": {},
   "outputs": [
    {
     "data": {
      "text/plain": [
       "9"
      ]
     },
     "execution_count": 25,
     "metadata": {},
     "output_type": "execute_result"
    }
   ],
   "source": [
    "#len - mostra a quantidade de elementos de uma lista \n",
    "\n",
    "lista = [0,5,5,77,8,75,454,55545,454]\n",
    "len(lista)"
   ]
  },
  {
   "cell_type": "code",
   "execution_count": 26,
   "id": "dd4efb49-0c5b-4f67-8f75-4b9fe7fa84f8",
   "metadata": {},
   "outputs": [
    {
     "data": {
      "text/plain": [
       "[0, 5, 5, 8, 75, 77, 454, 454, 55545]"
      ]
     },
     "execution_count": 26,
     "metadata": {},
     "output_type": "execute_result"
    }
   ],
   "source": [
    "#sort - ordena por ordem crescente\n",
    "\n",
    "lista = [0,5,5,77,8,75,454,55545,454]\n",
    "lista.sort()\n",
    "lista"
   ]
  },
  {
   "cell_type": "code",
   "execution_count": 27,
   "id": "7660e14f-0625-4cab-bddc-bf2fafd20ed5",
   "metadata": {},
   "outputs": [
    {
     "data": {
      "text/plain": [
       "[55545, 454, 454, 77, 75, 8, 5, 5, 0]"
      ]
     },
     "execution_count": 27,
     "metadata": {},
     "output_type": "execute_result"
    }
   ],
   "source": [
    "#sort(reverse=True) - ordena por ordem decrescente\n",
    "\n",
    "lista = [0,5,5,77,8,75,454,55545,454]\n",
    "lista.sort(reverse=True)\n",
    "lista"
   ]
  },
  {
   "cell_type": "code",
   "execution_count": 28,
   "id": "f241f290-f11f-429e-947f-db8bd79a6857",
   "metadata": {},
   "outputs": [
    {
     "data": {
      "text/plain": [
       "[0, 5, 5, 8, 75, 77, 454, 454, 55545]"
      ]
     },
     "execution_count": 28,
     "metadata": {},
     "output_type": "execute_result"
    }
   ],
   "source": [
    "#sort(reverse=False) - ordena por ordem crescente\n",
    "\n",
    "lista = [0,5,5,77,8,75,454,55545,454]\n",
    "lista.sort(reverse=False)\n",
    "lista"
   ]
  },
  {
   "cell_type": "code",
   "execution_count": 30,
   "id": "5c57d760-ac16-47aa-9de9-265d2c85ebf1",
   "metadata": {},
   "outputs": [
    {
     "data": {
      "text/plain": [
       "[555, 0, 5, 5, 77, 8, 75, 454, 55545, 454]"
      ]
     },
     "execution_count": 30,
     "metadata": {},
     "output_type": "execute_result"
    }
   ],
   "source": [
    "#insert - insere um elemento definido em uma posição definida na lista\n",
    "\n",
    "lista = [0,5,5,77,8,75,454,55545,454]\n",
    "lista.insert(0, 555)\n",
    "lista"
   ]
  },
  {
   "cell_type": "code",
   "execution_count": 31,
   "id": "8ea07ccf-6825-4dbf-9ad4-ba1d174e3099",
   "metadata": {},
   "outputs": [
    {
     "data": {
      "text/plain": [
       "[0, 5, 5, 77, 8, 75, 454, 55545]"
      ]
     },
     "execution_count": 31,
     "metadata": {},
     "output_type": "execute_result"
    }
   ],
   "source": [
    "#pop - apaga o último elemento da lista\n",
    "\n",
    "lista = [0,5,5,77,8,75,454,55545,454]\n",
    "lista.pop()\n",
    "lista"
   ]
  },
  {
   "cell_type": "code",
   "execution_count": 32,
   "id": "aa4a4c34-8b6a-479e-90c9-1dd0bce36d96",
   "metadata": {},
   "outputs": [
    {
     "data": {
      "text/plain": [
       "[0, 5, 77, 8, 75, 454, 55545, 454]"
      ]
     },
     "execution_count": 32,
     "metadata": {},
     "output_type": "execute_result"
    }
   ],
   "source": [
    "#pop - apaga um elemento específico da lista\n",
    "\n",
    "lista = [0,5,5,77,8,75,454,55545,454]\n",
    "lista.pop(2)\n",
    "lista"
   ]
  },
  {
   "cell_type": "code",
   "execution_count": 42,
   "id": "54446c83-3d11-42db-b800-6936d55f0278",
   "metadata": {},
   "outputs": [
    {
     "data": {
      "text/plain": [
       "[0, 5, 5, 8, 75, 454, 55545, 454]"
      ]
     },
     "execution_count": 42,
     "metadata": {},
     "output_type": "execute_result"
    }
   ],
   "source": [
    "#del - apaga um elemento da lista pelo index informado\n",
    "\n",
    "lista = [0,5,5,77,8,75,454,55545,454]\n",
    "del(lista[3])\n",
    "lista"
   ]
  },
  {
   "cell_type": "code",
   "execution_count": 49,
   "id": "37f638cd-a585-4d31-97a8-ef59dc17e9fe",
   "metadata": {},
   "outputs": [
    {
     "data": {
      "text/plain": [
       "[0, 5, 5, 8, 75, 454, 55545, 454]"
      ]
     },
     "execution_count": 49,
     "metadata": {},
     "output_type": "execute_result"
    }
   ],
   "source": [
    "#remove - remove um elemento definido da lista \n",
    "\n",
    "lista = [0,5,5,77,8,75,454,55545,454]\n",
    "lista.remove(77)\n",
    "lista"
   ]
  },
  {
   "cell_type": "code",
   "execution_count": 51,
   "id": "407a80b8-9236-4366-8dae-5560f8fd21fa",
   "metadata": {},
   "outputs": [
    {
     "data": {
      "text/plain": [
       "[0, 5, 5, 77, 8, 75, 454, 55545, 454, 983]"
      ]
     },
     "execution_count": 51,
     "metadata": {},
     "output_type": "execute_result"
    }
   ],
   "source": [
    "#append - adiciona um elemento definido ao final da lista \n",
    "\n",
    "lista = [0,5,5,77,8,75,454,55545,454]\n",
    "lista.append(983)\n",
    "lista"
   ]
  },
  {
   "cell_type": "code",
   "execution_count": 58,
   "id": "e7157dba-f5e2-4ff8-a9b7-9b4483502461",
   "metadata": {},
   "outputs": [
    {
     "data": {
      "text/plain": [
       "77"
      ]
     },
     "execution_count": 58,
     "metadata": {},
     "output_type": "execute_result"
    }
   ],
   "source": [
    "#selecionar um único elemento da lista pelo index\n",
    "\n",
    "lista = [0,5,5,77,8,75,454,55545,454]\n",
    "lista[3]"
   ]
  },
  {
   "cell_type": "code",
   "execution_count": 61,
   "id": "d1b1f865-fa06-4838-9ed6-1fda43e0a788",
   "metadata": {},
   "outputs": [
    {
     "data": {
      "text/plain": [
       "82"
      ]
     },
     "execution_count": 61,
     "metadata": {},
     "output_type": "execute_result"
    }
   ],
   "source": [
    "#Somar 2 ou mais elementos da lista pelo index\n",
    "\n",
    "lista = [0,5,5,77,8,75,454,55545,454]\n",
    "\n",
    "lista[1] +lista[3]"
   ]
  },
  {
   "cell_type": "code",
   "execution_count": 62,
   "id": "9fe8d865-1802-4116-acdc-01a9cb7ed5c5",
   "metadata": {},
   "outputs": [
    {
     "data": {
      "text/plain": [
       "38.5"
      ]
     },
     "execution_count": 62,
     "metadata": {},
     "output_type": "execute_result"
    }
   ],
   "source": [
    "#Dividir um elemento da lista\n",
    "\n",
    "lista = [0,5,5,77,8,75,454,55545,454]\n",
    "lista[3]/2"
   ]
  },
  {
   "cell_type": "code",
   "execution_count": 70,
   "id": "adbc69ff-e402-4a69-8be5-22a3a52a8572",
   "metadata": {},
   "outputs": [
    {
     "name": "stdin",
     "output_type": "stream",
     "text": [
      "Insira um valor:  45\n",
      "Insira um valor:  4444\n",
      "Insira um valor:  1\n",
      "Insira um valor:  1555\n",
      "Insira um valor:  2154\n"
     ]
    },
    {
     "data": {
      "text/plain": [
       "[45, 4444, 1, 1555, 2154]"
      ]
     },
     "execution_count": 70,
     "metadata": {},
     "output_type": "execute_result"
    }
   ],
   "source": [
    "#Inserir elementos na lista através de inputs\n",
    "\n",
    "valores = []\n",
    "\n",
    "for valor in range(0, 5):\n",
    "    valor = (int(input(\"Insira um valor: \")))\n",
    "    valores.append(valor)\n",
    "valores"
   ]
  },
  {
   "cell_type": "code",
   "execution_count": 71,
   "id": "d0bda11e-d96a-4974-8d3c-921a80b7e7f0",
   "metadata": {},
   "outputs": [
    {
     "data": {
      "text/plain": [
       "40"
      ]
     },
     "execution_count": 71,
     "metadata": {},
     "output_type": "execute_result"
    }
   ],
   "source": [
    "#Multiplicar 2 ou mais elementos da lista\n",
    "\n",
    "lista = [0,5,5,77,8,75,454,55545,454]\n",
    "lista[2] * lista[4]"
   ]
  },
  {
   "cell_type": "code",
   "execution_count": 74,
   "id": "63efe0b9-3779-4751-8b2f-386b47dbd1de",
   "metadata": {},
   "outputs": [
    {
     "data": {
      "text/plain": [
       "3"
      ]
     },
     "execution_count": 74,
     "metadata": {},
     "output_type": "execute_result"
    }
   ],
   "source": [
    "#Substituir um elemento da lista por outro \n",
    "\n",
    "lista = [0,5,5,77,8,75,454,55545,454]\n",
    "lista[2] = 3\n",
    "lista[2]"
   ]
  },
  {
   "cell_type": "code",
   "execution_count": 78,
   "id": "ea0f4c08-ce0f-486b-8f7c-a1f411eb4cd0",
   "metadata": {},
   "outputs": [
    {
     "data": {
      "text/plain": [
       "[0, 5, 5, 77, 8, 75, 454, 55545, 454]"
      ]
     },
     "execution_count": 78,
     "metadata": {},
     "output_type": "execute_result"
    }
   ],
   "source": [
    "#copiar uma lista inteira \n",
    "lista = [0,5,5,77,8,75,454,55545,454]\n",
    "b = lista[:]\n",
    "b"
   ]
  },
  {
   "cell_type": "code",
   "execution_count": 79,
   "id": "0e27d8ba-657f-490f-9140-35d305b133f4",
   "metadata": {},
   "outputs": [
    {
     "data": {
      "text/plain": [
       "[5, 77, 8, 75]"
      ]
     },
     "execution_count": 79,
     "metadata": {},
     "output_type": "execute_result"
    }
   ],
   "source": [
    "#copiar uma lista parcial pelos indexs\n",
    "lista = [0,5,5,77,8,75,454,55545,454]\n",
    "b = lista[2:6]\n",
    "b"
   ]
  },
  {
   "cell_type": "code",
   "execution_count": 81,
   "id": "d1978a6e-a3ac-4a84-a592-e7807fa5f03d",
   "metadata": {},
   "outputs": [
    {
     "data": {
      "text/plain": [
       "True"
      ]
     },
     "execution_count": 81,
     "metadata": {},
     "output_type": "execute_result"
    }
   ],
   "source": [
    "not False"
   ]
  },
  {
   "cell_type": "code",
   "execution_count": null,
   "id": "21ea486c-be93-4596-b993-7844f68bc0f4",
   "metadata": {},
   "outputs": [],
   "source": []
  }
 ],
 "metadata": {
  "kernelspec": {
   "display_name": "Python 3 (ipykernel)",
   "language": "python",
   "name": "python3"
  },
  "language_info": {
   "codemirror_mode": {
    "name": "ipython",
    "version": 3
   },
   "file_extension": ".py",
   "mimetype": "text/x-python",
   "name": "python",
   "nbconvert_exporter": "python",
   "pygments_lexer": "ipython3",
   "version": "3.10.11"
  }
 },
 "nbformat": 4,
 "nbformat_minor": 5
}
