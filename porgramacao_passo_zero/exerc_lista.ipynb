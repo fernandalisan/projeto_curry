{
 "cells": [
  {
   "cell_type": "code",
   "execution_count": null,
   "id": "07f35a3a-4b99-471c-a240-b3f22e1a56d3",
   "metadata": {},
   "outputs": [],
   "source": [
    "#Escreva  um  programa  que  receba  uma  lista  de  10  inteiros  \n",
    "#via  teclado  e imprima todo a lista em na mesma linha. \n",
    "\n",
    "lista = []\n",
    "\n",
    "for numeros in range(0, 10):\n",
    "    numeros = int(input('Digite um número inteiro: '))\n",
    "    lista.append(numeros)\n",
    "print(lista, end=', ' )             \n",
    "    "
   ]
  },
  {
   "cell_type": "code",
   "execution_count": 28,
   "id": "d309d17c-c463-4645-b8e9-da5a432fb1f9",
   "metadata": {},
   "outputs": [
    {
     "name": "stdin",
     "output_type": "stream",
     "text": [
      "Digite um número inteiro:  5\n",
      "Digite um número inteiro:  4\n",
      "Digite um número inteiro:  28\n",
      "Digite um número inteiro:  2144\n",
      "Digite um número inteiro:  1\n",
      "Digite um número inteiro:  54\n",
      "Digite um número inteiro:  4\n",
      "Digite um número inteiro:  5\n",
      "Digite um número inteiro:  2\n",
      "Digite um número inteiro:  5\n",
      "Digite mais um número inteiro:  5\n"
     ]
    },
    {
     "name": "stdout",
     "output_type": "stream",
     "text": [
      "Número 5 está na lista\n"
     ]
    }
   ],
   "source": [
    "#Escreva um programa que receba uma lista de de 10 inteiros via teclado,\n",
    "#em seguida  o  programa  deve  solicitar  um  número  \n",
    "#e  informar  se  o  número também está na lista ou não.\n",
    "\n",
    "lista = []\n",
    "\n",
    "for numero in range(0, 10):\n",
    "    numero = int(input(\"Digite um número inteiro: \"))\n",
    "    lista.append(numero)\n",
    "    \n",
    "numero2 = int(input('Digite mais um número inteiro: '))\n",
    "if numero2 in lista:\n",
    "    print(f'Número {numero2} está na lista')\n",
    "else:\n",
    "    print(f'Número {nemero2} não está na lista')\n",
    " \n",
    "    \n"
   ]
  },
  {
   "cell_type": "code",
   "execution_count": 64,
   "id": "f147ae25-8986-4f14-a734-bf6283844f26",
   "metadata": {},
   "outputs": [
    {
     "name": "stdin",
     "output_type": "stream",
     "text": [
      "Digite um número inteiro:  500\n",
      "Digite um número inteiro:  200\n"
     ]
    },
    {
     "data": {
      "text/plain": [
       "350.0"
      ]
     },
     "execution_count": 64,
     "metadata": {},
     "output_type": "execute_result"
    }
   ],
   "source": [
    "#Escreva um programa que leia 10 números de reais e informe: \n",
    "#a) a média dos elementos; \n",
    "#b) o maior e menor elemento; \n",
    "#c) a quantidade de elementos positivos \n",
    "#e a quantidade de elementos negativos.\n",
    "\n",
    "lista = [] \n",
    "soma = 0 \n",
    "cont = 0\n",
    "\n",
    "for numeros in range(0, 2):\n",
    "    numeros = int(input('Digite um número inteiro: '))\n",
    "    lista.append(numeros)\n",
    "    soma = soma + numeros \n",
    "    cont = cont + 1 \n",
    "\n",
    "media = soma / cont\n",
    "media\n"
   ]
  },
  {
   "cell_type": "code",
   "execution_count": 81,
   "id": "0f722c8d-cf70-4a6c-9443-c30d94a12f27",
   "metadata": {},
   "outputs": [
    {
     "data": {
      "text/plain": [
       "18"
      ]
     },
     "execution_count": 81,
     "metadata": {},
     "output_type": "execute_result"
    }
   ],
   "source": [
    "lista1 = [0,5,5,77,8,75,454,55545,454]\n",
    "lista2 = [2,55,5,5,545,5454544,5454,54,4]\n",
    "lista = 0 \n",
    "\n",
    "lista1.extend(lista2)\n",
    "len(lista1)"
   ]
  },
  {
   "cell_type": "code",
   "execution_count": null,
   "id": "f8dbc8ef-10e1-4572-b62b-df2478765a19",
   "metadata": {},
   "outputs": [],
   "source": []
  }
 ],
 "metadata": {
  "kernelspec": {
   "display_name": "Python 3 (ipykernel)",
   "language": "python",
   "name": "python3"
  },
  "language_info": {
   "codemirror_mode": {
    "name": "ipython",
    "version": 3
   },
   "file_extension": ".py",
   "mimetype": "text/x-python",
   "name": "python",
   "nbconvert_exporter": "python",
   "pygments_lexer": "ipython3",
   "version": "3.10.11"
  }
 },
 "nbformat": 4,
 "nbformat_minor": 5
}
