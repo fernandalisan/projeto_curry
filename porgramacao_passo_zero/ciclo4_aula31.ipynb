{
 "cells": [
  {
   "cell_type": "code",
   "execution_count": 11,
   "id": "6bebf691-9e37-42dd-baf8-5d4b72ae2540",
   "metadata": {},
   "outputs": [
    {
     "data": {
      "text/plain": [
       "ID                                     object\n",
       "Delivery_person_ID                     object\n",
       "Delivery_person_Age                     int64\n",
       "Delivery_person_Ratings               float64\n",
       "Restaurant_latitude                   float64\n",
       "Restaurant_longitude                  float64\n",
       "Delivery_location_latitude            float64\n",
       "Delivery_location_longitude           float64\n",
       "Order_Date                     datetime64[ns]\n",
       "Time_Orderd                            object\n",
       "Time_Order_picked                      object\n",
       "Weatherconditions                      object\n",
       "Road_traffic_density                   object\n",
       "Vehicle_condition                       int64\n",
       "Type_of_order                          object\n",
       "Type_of_vehicle                        object\n",
       "multiple_deliveries                     int64\n",
       "Festival                               object\n",
       "City                                   object\n",
       "Time_taken(min)                        object\n",
       "dtype: object"
      ]
     },
     "execution_count": 11,
     "metadata": {},
     "output_type": "execute_result"
    }
   ],
   "source": [
    "#importar o arquivo \n",
    "import pandas as pd\n",
    "import io\n",
    "arquivo = pd.read_csv(r'/Users/fernanda/Documents/repos/ftc/arquivos_baixados/train.csv')\n",
    "\n",
    "#transformar o arquivo em um DataFrame\n",
    "df = pd.DataFrame(arquivo)\n",
    "\n",
    "#cópia do arquivo original\n",
    "df1 = df.copy()\n",
    "\n",
    "#verificando o tipo de variável de cada coluna\n",
    "df1.dtypes\n",
    "\n",
    "#####limpeza dos dados####\n",
    "\n",
    "#Excluindo 'NaN ' da coluna Age:\n",
    "linhas_selecionadas = df1['Delivery_person_Age'] != 'NaN '\n",
    "#Localizando as linhas que contém NaN\n",
    "#df1 = df1.loc[linhas, colunas]\n",
    "df1 = df1.loc[linhas_selecionadas, :].copy()\n",
    "\n",
    "#Colunas que estão com type incorreto de acordo com as linhas:\n",
    "#Delivery_person_Age - conversão de Object(str) para int\n",
    "#coluna Delivery_person_Ratings - conversão de Object(str) para float\n",
    "#coluna Order_Date - conversão de Object(str) para data\n",
    "#coluna multiple_deliveries - conversão de Object(str) para int\n",
    "\n",
    "#conversões:\n",
    "#Delivery_person_Age - conversão de Object(str) para int\n",
    "df1['Delivery_person_Age'] = df1['Delivery_person_Age'].astype(int)\n",
    "\n",
    "#coluna Delivery_person_Ratings - conversão de Object(str) para float\n",
    "df1['Delivery_person_Ratings'] = df1['Delivery_person_Ratings'].astype(float)\n",
    "\n",
    "#coluna Order_Date - conversão de Object(str) para data\n",
    "df1['Order_Date'] = pd.to_datetime( df1['Order_Date'], format = '%d-%m-%Y' )\n",
    "\n",
    "\n",
    "###Excluindo 'NaN ' da coluna 'multiple_deliveries':\n",
    "linhas_selecionadas = df1['multiple_deliveries'] != 'NaN '\n",
    "df1 = df1.loc[linhas_selecionadas, :]\n",
    "\n",
    "#coluna multiple_deliveries - conversão de Object(str) para int\n",
    "df1['multiple_deliveries'] = df1['multiple_deliveries'].astype(int)\n",
    "df1.dtypes\n"
   ]
  },
  {
   "cell_type": "code",
   "execution_count": 12,
   "id": "db5aaaa5-fd26-409e-ba92-57ad990ea68c",
   "metadata": {},
   "outputs": [
    {
     "data": {
      "text/plain": [
       "42805"
      ]
     },
     "execution_count": 12,
     "metadata": {},
     "output_type": "execute_result"
    }
   ],
   "source": [
    "#1\n",
    "len(df1)"
   ]
  },
  {
   "cell_type": "code",
   "execution_count": 46,
   "id": "94107e87-9f3c-40f3-811a-479786d8518d",
   "metadata": {},
   "outputs": [
    {
     "data": {
      "text/plain": [
       "42805"
      ]
     },
     "execution_count": 46,
     "metadata": {},
     "output_type": "execute_result"
    }
   ],
   "source": [
    "#1 \n",
    "df1.shape[0]"
   ]
  },
  {
   "cell_type": "code",
   "execution_count": 19,
   "id": "4af25ffb-837e-49ce-b331-1ebec180d596",
   "metadata": {},
   "outputs": [
    {
     "data": {
      "text/plain": [
       "1320"
      ]
     },
     "execution_count": 19,
     "metadata": {},
     "output_type": "execute_result"
    }
   ],
   "source": [
    "#2\n",
    "len(df1['Delivery_person_ID'].unique())\n"
   ]
  },
  {
   "cell_type": "code",
   "execution_count": 47,
   "id": "d1acc284-1116-44b0-ac9f-f266e742532a",
   "metadata": {},
   "outputs": [
    {
     "data": {
      "text/plain": [
       "1320"
      ]
     },
     "execution_count": 47,
     "metadata": {},
     "output_type": "execute_result"
    }
   ],
   "source": [
    "#2\n",
    "df1['Delivery_person_ID'].nunique()"
   ]
  },
  {
   "cell_type": "code",
   "execution_count": 48,
   "id": "7e249160-632c-4749-9363-cc5dec67e2d4",
   "metadata": {
    "tags": []
   },
   "outputs": [
    {
     "data": {
      "text/plain": [
       "50"
      ]
     },
     "execution_count": 48,
     "metadata": {},
     "output_type": "execute_result"
    }
   ],
   "source": [
    "#3\n",
    "df1.sort_values('Delivery_person_Age', ascending=False)\n",
    "maior_idade = df1.sort_values(by='Delivery_person_Age', ascending=False)\n",
    "maior_idade['Delivery_person_Age'].max()"
   ]
  },
  {
   "cell_type": "code",
   "execution_count": null,
   "id": "51610b74-1cbe-4bf5-911b-48ee295bf029",
   "metadata": {},
   "outputs": [],
   "source": []
  },
  {
   "cell_type": "code",
   "execution_count": 32,
   "id": "a2de0fd6-32af-4a86-bf45-193fff0870b1",
   "metadata": {
    "tags": []
   },
   "outputs": [
    {
     "data": {
      "text/plain": [
       "15"
      ]
     },
     "execution_count": 32,
     "metadata": {},
     "output_type": "execute_result"
    }
   ],
   "source": [
    "#3\n",
    "df1.sort_values(by='Delivery_person_Age', ascending=False)\n",
    "maior_idade = df1.sort_values(by='Delivery_person_Age', ascending=False)\n",
    "maior_idade['Delivery_person_Age'].min()"
   ]
  },
  {
   "cell_type": "code",
   "execution_count": 36,
   "id": "509aae3b-58a5-4d9b-9fc3-8c40907d77ac",
   "metadata": {},
   "outputs": [
    {
     "data": {
      "text/plain": [
       "ID                                         0x1000 \n",
       "Delivery_person_ID                 AGRRES010DEL01 \n",
       "Delivery_person_Age                             15\n",
       "Delivery_person_Ratings                        1.0\n",
       "Restaurant_latitude                     -30.902872\n",
       "Restaurant_longitude                    -88.366217\n",
       "Delivery_location_latitude                    0.01\n",
       "Delivery_location_longitude                   0.01\n",
       "Order_Date                     2022-02-11 00:00:00\n",
       "Time_Orderd                               00:00:00\n",
       "Time_Order_picked                         00:00:00\n",
       "Weatherconditions                conditions Cloudy\n",
       "Road_traffic_density                         High \n",
       "Vehicle_condition                                0\n",
       "Type_of_order                              Buffet \n",
       "Type_of_vehicle                           bicycle \n",
       "multiple_deliveries                              0\n",
       "Festival                                      NaN \n",
       "City                                Metropolitian \n",
       "Time_taken(min)                           (min) 10\n",
       "dtype: object"
      ]
     },
     "execution_count": 36,
     "metadata": {},
     "output_type": "execute_result"
    }
   ],
   "source": [
    "#4\n",
    "df1.sort_values(by='Delivery_person_Age', ascending=False).min()"
   ]
  },
  {
   "cell_type": "code",
   "execution_count": null,
   "id": "bc008739-2a09-4322-9f73-d7f09e07ca11",
   "metadata": {},
   "outputs": [],
   "source": []
  },
  {
   "cell_type": "code",
   "execution_count": 39,
   "id": "18d0e921-b437-4503-ac4c-eecac377a8cd",
   "metadata": {},
   "outputs": [
    {
     "data": {
      "text/plain": [
       "array(['conditions Sunny', 'conditions Stormy', 'conditions Sandstorms',\n",
       "       'conditions Cloudy', 'conditions Fog', 'conditions Windy',\n",
       "       'conditions NaN'], dtype=object)"
      ]
     },
     "execution_count": 39,
     "metadata": {},
     "output_type": "execute_result"
    }
   ],
   "source": [
    "#5\n",
    "df1['Weatherconditions'].unique()\n"
   ]
  },
  {
   "cell_type": "code",
   "execution_count": 40,
   "id": "5c29ff24-3a58-42c1-83c6-ece4c3636312",
   "metadata": {},
   "outputs": [
    {
     "data": {
      "text/plain": [
       "7083"
      ]
     },
     "execution_count": 40,
     "metadata": {},
     "output_type": "execute_result"
    }
   ],
   "source": [
    "#6\n",
    "linhas = df1['Weatherconditions'] == 'conditions Sandstorms'\n",
    "len(df1.loc[linhas, 'Weatherconditions'])"
   ]
  },
  {
   "cell_type": "code",
   "execution_count": null,
   "id": "d2196f68-e487-4cb2-9bb3-85551f8ab4f5",
   "metadata": {},
   "outputs": [],
   "source": []
  }
 ],
 "metadata": {
  "kernelspec": {
   "display_name": "Python 3 (ipykernel)",
   "language": "python",
   "name": "python3"
  },
  "language_info": {
   "codemirror_mode": {
    "name": "ipython",
    "version": 3
   },
   "file_extension": ".py",
   "mimetype": "text/x-python",
   "name": "python",
   "nbconvert_exporter": "python",
   "pygments_lexer": "ipython3",
   "version": "3.10.11"
  }
 },
 "nbformat": 4,
 "nbformat_minor": 5
}
