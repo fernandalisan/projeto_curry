{
 "cells": [
  {
   "cell_type": "code",
   "execution_count": 32,
   "id": "34f9ea85-83b4-4d6a-b3e5-ef3b71407273",
   "metadata": {},
   "outputs": [
    {
     "name": "stdout",
     "output_type": "stream",
     "text": [
      "20, 21, 433, 2044, 144, 21, 13, 33, 44, 768, 19, 20, 24, 12, 422, 44, 133, 4142, 14, 22, 3422, 44, 22, 34142, 51, 244, 11, 33, 14, 22, 13, 51, 12, 4133, "
     ]
    }
   ],
   "source": [
    "#Exercíco 01\n",
    "#Some o valor 10 a todos os elementos abaixo, guarde os resultados em uma\n",
    "#lista e mostre-os para o usuário ao final do script.\n",
    "\n",
    "lista = [10, 11, 423, 2034, 134, 11, 3, 23, 34, 758, 9, 10, 14, 2, 412,34, 123,\n",
    "4132, 4, 12, 3412, 34, 12, 34132, 41, 234, 1, 23,4, 12, 3, 41, 2, 4123]\n",
    "\n",
    "for elemento in lista:\n",
    "    lista = elemento + 10\n",
    "    print(lista, end=\", \")\n",
    "   \n"
   ]
  },
  {
   "cell_type": "code",
   "execution_count": 24,
   "id": "d326d816-6db4-4e6b-b0a0-a291974653cd",
   "metadata": {},
   "outputs": [
    {
     "name": "stdout",
     "output_type": "stream",
     "text": [
      "[20, 13, 19, 20, 12, 14, 11, 14, 13, 12]\n",
      "[220, 220, 460, 680, 280, 680, 240, 680, 240, 820, 460, 240, 820]\n",
      "[]\n",
      "[211.5, 1017.0, 67.0, 379.0, 206.0, 61.5, 2066.0, 1706.0, 17066.0, 117.0, 2061.5]\n"
     ]
    }
   ],
   "source": [
    "#Exercício 02\n",
    "#Percorra todos os elementos da lista e some 10 aos valores entre 0 e 10,\n",
    "#multiplique por 20 os valores entre 11 e 50, subtraia 30 dos valores entre 51 e\n",
    "#100 e divida por 2 os valores acima de 100.\n",
    "\n",
    "lista = [10, 11, 423, 2034, 134, 11, 3, 23, 34, 758, 9, 10, 14, 2, 412,34, 123,\n",
    "4132, 4, 12, 3412, 34, 12, 34132, 41, 234, 1, 23,4, 12, 3, 41, 2, 4123]\n",
    "\n",
    "lista_soma = []\n",
    "lista_multiplicacao = []\n",
    "lista_divisao = []\n",
    "lista_subtracao = []\n",
    "\n",
    "\n",
    "\n",
    "for elemento in lista:\n",
    "    if elemento <= 10:\n",
    "        lista_soma.append(elemento + 10)\n",
    "    elif elemento <= 50:\n",
    "        lista_multiplicacao.append(elemento * 20)\n",
    "    elif elemento <=100:\n",
    "        lista_divisao.append(elemento - 30)\n",
    "    elif elemento > 100:\n",
    "        lista_subtracao.append(elemento / 2)\n",
    "\n",
    "print(lista_soma)\n",
    "print(lista_multiplicacao)\n",
    "print(lista_divisao)\n",
    "print(lista_subtracao)\n",
    "\n",
    "  "
   ]
  },
  {
   "cell_type": "code",
   "execution_count": 30,
   "id": "ac9c2f07-57cb-44c4-bc44-5ce8546eaa74",
   "metadata": {},
   "outputs": [
    {
     "name": "stdout",
     "output_type": "stream",
     "text": [
      "Um valor foi removido da lista 1 vezes.\n",
      "Um valor foi removido da lista 2 vezes.\n",
      "Um valor foi removido da lista 3 vezes.\n",
      "Um valor foi removido da lista 4 vezes.\n",
      "Um valor foi removido da lista 5 vezes.\n",
      "Um valor foi removido da lista 6 vezes.\n",
      "Um valor foi removido da lista 7 vezes.\n",
      "Um valor foi removido da lista 8 vezes.\n",
      "Um valor foi removido da lista 9 vezes.\n",
      "Um valor foi removido da lista 10 vezes.\n",
      "Um valor foi removido da lista 11 vezes.\n",
      "Um valor foi removido da lista 12 vezes.\n",
      "Um valor foi removido da lista 13 vezes.\n",
      "Um valor foi removido da lista 14 vezes.\n",
      "Um valor foi removido da lista 15 vezes.\n",
      "Um valor foi removido da lista 16 vezes.\n",
      "Um valor foi removido da lista 17 vezes.\n",
      "Um valor foi removido da lista 18 vezes.\n",
      "Um valor foi removido da lista 19 vezes.\n",
      "Um valor foi removido da lista 20 vezes.\n",
      "Um valor foi removido da lista 21 vezes.\n",
      "Um valor foi removido da lista 22 vezes.\n",
      "Um valor foi removido da lista 23 vezes.\n",
      "Um valor foi removido da lista 24 vezes.\n",
      "Um valor foi removido da lista 25 vezes.\n",
      "Um valor foi removido da lista 26 vezes.\n",
      "Um valor foi removido da lista 27 vezes.\n",
      "Um valor foi removido da lista 28 vezes.\n",
      "Um valor foi removido da lista 29 vezes.\n",
      "Um valor foi removido da lista 30 vezes.\n",
      "Um valor foi removido da lista 31 vezes.\n",
      "Um valor foi removido da lista 32 vezes.\n",
      "Um valor foi removido da lista 33 vezes.\n",
      "Um valor foi removido da lista 34 vezes.\n",
      "Um valor foi removido da lista 35 vezes.\n",
      "Um valor foi removido da lista 36 vezes.\n",
      "Um valor foi removido da lista 37 vezes.\n",
      "Um valor foi removido da lista 38 vezes.\n",
      "Um valor foi removido da lista 39 vezes.\n",
      "Um valor foi removido da lista 40 vezes.\n",
      "Um valor foi removido da lista 41 vezes.\n",
      "Um valor foi removido da lista 42 vezes.\n",
      "Um valor foi removido da lista 43 vezes.\n",
      "Um valor foi removido da lista 44 vezes.\n",
      "Um valor foi removido da lista 45 vezes.\n",
      "Um valor foi removido da lista 46 vezes.\n",
      "Um valor foi removido da lista 47 vezes.\n",
      "Um valor foi removido da lista 48 vezes.\n",
      "Um valor foi removido da lista 49 vezes.\n",
      "Um valor foi removido da lista 50 vezes.\n",
      "Um valor foi removido da lista 51 vezes.\n",
      "Um valor foi removido da lista 52 vezes.\n"
     ]
    }
   ],
   "source": [
    "#Exercício 03\n",
    "#Crie um script em Python que exiba, cinquenta e duas vezes, a seguinte\n",
    "#mensagem “Um valor foi removido da lista”. Além disso, esse script deve\n",
    "#mostrar, junto com a mensagem, o número de vezes em que a mensagem foi\n",
    "#exibida.\n",
    "\n",
    "cont = 0\n",
    "\n",
    "for elemento in range(0, 52):\n",
    "    cont = elemento + 1\n",
    "    print(f'Um valor foi removido da lista {cont} vezes.')\n",
    "    \n",
    "    "
   ]
  },
  {
   "cell_type": "code",
   "execution_count": null,
   "id": "781ee2bc-d369-4c25-af44-3ffcc5a33aab",
   "metadata": {},
   "outputs": [],
   "source": []
  }
 ],
 "metadata": {
  "kernelspec": {
   "display_name": "Python 3 (ipykernel)",
   "language": "python",
   "name": "python3"
  },
  "language_info": {
   "codemirror_mode": {
    "name": "ipython",
    "version": 3
   },
   "file_extension": ".py",
   "mimetype": "text/x-python",
   "name": "python",
   "nbconvert_exporter": "python",
   "pygments_lexer": "ipython3",
   "version": "3.10.11"
  }
 },
 "nbformat": 4,
 "nbformat_minor": 5
}
